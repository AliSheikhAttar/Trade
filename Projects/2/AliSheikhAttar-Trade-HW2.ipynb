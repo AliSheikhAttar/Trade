{
  "nbformat": 4,
  "nbformat_minor": 0,
  "metadata": {
    "colab": {
      "provenance": []
    },
    "kernelspec": {
      "name": "python3",
      "display_name": "Python 3"
    },
    "language_info": {
      "name": "python"
    }
  },
  "cells": [
    {
      "cell_type": "code",
      "execution_count": 218,
      "metadata": {
        "id": "-Mvx0tMG_Ejs"
      },
      "outputs": [],
      "source": [
        "import pandas as pd\n",
        "import numpy as np"
      ]
    },
    {
      "cell_type": "markdown",
      "source": [
        "# Section 1"
      ],
      "metadata": {
        "id": "bwgNfil1DkI4"
      }
    },
    {
      "cell_type": "code",
      "source": [
        "def calculate_macd(close_prices):\n",
        "    short_period=12\n",
        "    long_period=26\n",
        "    signal_period=9\n",
        "\n",
        "    short_ema = close_prices.ewm(span=short_period, adjust=False).mean()\n",
        "    long_ema = close_prices.ewm(span=long_period, adjust=False).mean()\n",
        "\n",
        "    macd_line = short_ema - long_ema\n",
        "    signal_line = macd_line.ewm(span=signal_period, adjust=False).mean()\n",
        "\n",
        "    return macd_line, signal_line"
      ],
      "metadata": {
        "id": "MrC6Mv8A_O05"
      },
      "execution_count": 219,
      "outputs": []
    },
    {
      "cell_type": "code",
      "source": [
        "\n",
        "def calculate_rsi(close_prices):\n",
        "    period=14\n",
        "    delta = close_prices.diff()\n",
        "    gain = (delta.where(delta > 0, 0)).rolling(window=period).mean()\n",
        "    loss = (-delta.where(delta < 0, 0)).rolling(window=period).mean()\n",
        "    rs = gain / loss\n",
        "    rsi = 100 - (100 / (1 + rs))\n",
        "    return rsi"
      ],
      "metadata": {
        "id": "RLtYnTFXAsE0"
      },
      "execution_count": 220,
      "outputs": []
    },
    {
      "cell_type": "code",
      "source": [
        "\n",
        "def backtest_strategy(close_prices: pd.Series, initial_capital: float):\n",
        "    # indicators\n",
        "    macd_line, signal_line = calculate_macd(close_prices)\n",
        "    rsi = calculate_rsi(close_prices)\n",
        "\n",
        "    in_position = False  # True means we are in a position, False means no position\n",
        "    equity = pd.Series(data=[0]*len(close_prices), index=close_prices.index)\n",
        "    equity.iloc[0] = initial_capital  # Starting with initial capital on all days\n",
        "\n",
        "    for i in range(1, len(close_prices)):\n",
        "        # Entry condition: MACD crosses above Signal and RSI > 48\n",
        "        if (not in_position and macd_line.iloc[i] > signal_line.iloc[i]) and (macd_line.iloc[i - 1] <= signal_line.iloc[i - 1]) and (rsi.iloc[i] > 48):\n",
        "            in_position = True  # Enter position\n",
        "\n",
        "        # Exit condition: MACD crosses below Signal\n",
        "        elif (in_position and macd_line.iloc[i] < signal_line.iloc[i]) and (macd_line.iloc[i - 1] >= signal_line.iloc[i - 1]):\n",
        "            in_position = False  # Exit position\n",
        "\n",
        "        # Calculate daily equity\n",
        "        if in_position:\n",
        "            equity.iloc[i] = equity.iloc[i - 1] * (1 + ((close_prices.iloc[i] - close_prices.iloc[i-1]) / close_prices.iloc[i-1]))  # Gain or loss if in position\n",
        "        else:\n",
        "            equity.iloc[i] = equity.iloc[i - 1]  # Capital remains the same if out of position\n",
        "\n",
        "    return equity"
      ],
      "metadata": {
        "id": "JdbGHHT9Atqb"
      },
      "execution_count": 221,
      "outputs": []
    },
    {
      "cell_type": "markdown",
      "source": [
        "# Section 2"
      ],
      "metadata": {
        "id": "aet0zBzzDt0f"
      }
    },
    {
      "cell_type": "code",
      "source": [
        "def calculate_netProfit(equity):\n",
        "    return equity.iloc[-1] - equity.iloc[0]"
      ],
      "metadata": {
        "id": "-RPIAQHcDgYe"
      },
      "execution_count": 222,
      "outputs": []
    },
    {
      "cell_type": "code",
      "source": [
        "def calculate_max_drawdown(equity):\n",
        "    peak = equity.cummax()\n",
        "    drawdown = (equity - peak) / peak\n",
        "    return drawdown.min()*100"
      ],
      "metadata": {
        "id": "ORwAVtc3GFpR"
      },
      "execution_count": 223,
      "outputs": []
    },
    {
      "cell_type": "code",
      "source": [
        "\n",
        "def calculate_drawdown_duration(equity_curve):\n",
        "    cumulative_max = equity_curve.cummax()\n",
        "    drawdown = equity_curve / cumulative_max - 1\n",
        "    in_drawdown = drawdown < 0\n",
        "    drawdown_durations = in_drawdown.astype(int).groupby((in_drawdown != in_drawdown.shift()).cumsum()).cumsum()\n",
        "\n",
        "    max_duration = drawdown_durations.max()\n",
        "    return max_duration, drawdown_durations\n"
      ],
      "metadata": {
        "id": "tm-sxkZAGfvr"
      },
      "execution_count": 224,
      "outputs": []
    },
    {
      "cell_type": "code",
      "source": [
        "def calculate_annual_sharp_ratio(equity, N=255, rf=0.04):\n",
        "    returns = equity.pct_change()\n",
        "    mean = returns.mean() * N -rf\n",
        "    sigma = returns.std() * np.sqrt(N)\n",
        "    return mean / sigma"
      ],
      "metadata": {
        "id": "SfQBylSlHZ_1"
      },
      "execution_count": 225,
      "outputs": []
    },
    {
      "cell_type": "code",
      "source": [
        "def calculate_annual_sortino_ratio(equity, N=255,rf=0.04):\n",
        "    returns = equity.pct_change()\n",
        "    mean = returns.mean() * N -rf\n",
        "    std_neg = returns[returns<0].std()*np.sqrt(N)\n",
        "    return mean/std_neg"
      ],
      "metadata": {
        "id": "QiQASveTJKE0"
      },
      "execution_count": 226,
      "outputs": []
    },
    {
      "cell_type": "markdown",
      "source": [
        "# Section 3"
      ],
      "metadata": {
        "id": "oasAunnGKGOW"
      }
    },
    {
      "cell_type": "code",
      "source": [
        "import yfinance as yf\n",
        "import pandas as pd\n",
        "\n",
        "tickers = {\"BTC-USD\", \"ETH-USD\", \"DOGE-USD\"}\n",
        "\n",
        "start_date = \"2022-10-01\"\n",
        "end_date = \"2024-10-01\"\n",
        "\n",
        "crypto_data = {}\n",
        "\n",
        "# Download data for each cryptocurrency\n",
        "for ticker in tickers:\n",
        "    data = yf.download(ticker, start=start_date, end=end_date)\n",
        "    crypto_data[ticker] = data['Adj Close']\n",
        "Bitcoin_adj_closes = pd.Series(crypto_data['BTC-USD'].values[:,0])\n",
        "Ethereum_adj_closes = pd.Series(crypto_data['ETH-USD'].values[:,0])\n",
        "Dogecoin_adj_closes = pd.Series(crypto_data['DOGE-USD'].values[:,0])"
      ],
      "metadata": {
        "colab": {
          "base_uri": "https://localhost:8080/"
        },
        "id": "G7P1WLgscRp1",
        "outputId": "57951c2e-b2b0-4a7e-d180-8c959dcda506"
      },
      "execution_count": 227,
      "outputs": [
        {
          "output_type": "stream",
          "name": "stderr",
          "text": [
            "[*********************100%***********************]  1 of 1 completed\n",
            "[*********************100%***********************]  1 of 1 completed\n",
            "[*********************100%***********************]  1 of 1 completed\n"
          ]
        }
      ]
    },
    {
      "cell_type": "code",
      "source": [
        "equity4Bitcoin = backtest_strategy(Bitcoin_adj_closes, 100)\n",
        "equity4Ethereum = backtest_strategy(Ethereum_adj_closes, 100)\n",
        "equity4Dogecoin = backtest_strategy(Dogecoin_adj_closes, 100)"
      ],
      "metadata": {
        "colab": {
          "base_uri": "https://localhost:8080/"
        },
        "id": "RhQqepn6eKpg",
        "outputId": "2c4f7356-4304-4dc2-e516-01b75b3795ef"
      },
      "execution_count": 228,
      "outputs": [
        {
          "output_type": "stream",
          "name": "stderr",
          "text": [
            "<ipython-input-221-21f1641a45fc>:21: FutureWarning: Setting an item of incompatible dtype is deprecated and will raise an error in a future version of pandas. Value '101.86804883537121' has dtype incompatible with int64, please explicitly cast to a compatible dtype first.\n",
            "  equity.iloc[i] = equity.iloc[i - 1] * (1 + ((close_prices.iloc[i] - close_prices.iloc[i-1]) / close_prices.iloc[i-1]))  # Gain or loss if in position\n",
            "<ipython-input-221-21f1641a45fc>:21: FutureWarning: Setting an item of incompatible dtype is deprecated and will raise an error in a future version of pandas. Value '101.1041057600688' has dtype incompatible with int64, please explicitly cast to a compatible dtype first.\n",
            "  equity.iloc[i] = equity.iloc[i - 1] * (1 + ((close_prices.iloc[i] - close_prices.iloc[i-1]) / close_prices.iloc[i-1]))  # Gain or loss if in position\n",
            "<ipython-input-221-21f1641a45fc>:21: FutureWarning: Setting an item of incompatible dtype is deprecated and will raise an error in a future version of pandas. Value '110.92731464034755' has dtype incompatible with int64, please explicitly cast to a compatible dtype first.\n",
            "  equity.iloc[i] = equity.iloc[i - 1] * (1 + ((close_prices.iloc[i] - close_prices.iloc[i-1]) / close_prices.iloc[i-1]))  # Gain or loss if in position\n"
          ]
        }
      ]
    },
    {
      "cell_type": "code",
      "source": [
        "def calculate_measures(equity, crypto):\n",
        "  Net_proit = calculate_netProfit(equity)\n",
        "  Maximum_drawdown = calculate_max_drawdown(equity)\n",
        "  Maximum_drawdown_period, Duration_of_drawdown = calculate_drawdown_duration(equity)\n",
        "  Annual_sharp_ratio = calculate_annual_sharp_ratio(equity)\n",
        "  Annual_sortino_ratio = calculate_annual_sortino_ratio(equity)\n",
        "  print(f\"Net profit for {crypto} is {Net_proit}$\")\n",
        "  print(f\"Maximum drawdown for {crypto} is {Maximum_drawdown}\")\n",
        "  print(f\"Duration of drawdown for {crypto} is \\n{Duration_of_drawdown.values}\")\n",
        "  print(f\"Maximum drawdown period for {crypto} is {Maximum_drawdown_period} days\")\n",
        "  print(f\"Annual sharpe ratio for {crypto} is {Annual_sharp_ratio}\")\n",
        "  print(f\"Annual sortino ratio for {crypto} is {Annual_sortino_ratio}\")"
      ],
      "metadata": {
        "id": "7SGjUzzeg4i1"
      },
      "execution_count": 229,
      "outputs": []
    },
    {
      "cell_type": "markdown",
      "source": [
        "## Bitcoin"
      ],
      "metadata": {
        "id": "WS68fZcWfSmj"
      }
    },
    {
      "cell_type": "code",
      "source": [
        "calculate_measures(equity4Bitcoin, \"Bitcoin\")"
      ],
      "metadata": {
        "colab": {
          "base_uri": "https://localhost:8080/"
        },
        "id": "wrc4ms2-fYsB",
        "outputId": "b200d1eb-03b4-4acb-82a4-c29f183ea19f"
      },
      "execution_count": 230,
      "outputs": [
        {
          "output_type": "stream",
          "name": "stdout",
          "text": [
            "Net profit for Bitcoin is 218.9784123431886$\n",
            "Maximum drawdown for Bitcoin is -8.247514008869924\n",
            "Duration of drawdown for Bitcoin is \n",
            "[  0   0   0   0   0   0   0   0   0   0   0   0   0   0   0   0   0   0\n",
            "   0   0   0   0   0   1   0   0   1   2   0   1   2   3   4   5   0   0\n",
            "   1   2   3   4   5   6   7   8   9  10  11  12  13  14  15  16  17  18\n",
            "  19  20  21  22  23  24  25  26  27  28  29  30  31  32  33  34  35  36\n",
            "  37  38  39  40  41  42  43  44  45  46  47  48  49  50  51  52  53  54\n",
            "  55  56  57  58  59  60  61  62  63  64  65  66  67  68  69  70  71  72\n",
            "  73  74  75  76  77  78  79  80  81  82  83  84  85  86  87  88  89  90\n",
            "  91  92  93  94  95  96  97  98  99 100 101 102 103   0   0   1   0   1\n",
            "   2   3   4   5   6   7   8   9  10  11  12  13  14  15  16  17  18  19\n",
            "  20  21  22  23  24   0   1   0   1   0   1   0   1   2   3   4   5   0\n",
            "   1   0   0   0   0   0   0   0   0   0   0   0   0   1   0   0   1   2\n",
            "   3   4   5   6   7   8   9  10  11  12  13  14  15  16  17  18  19  20\n",
            "  21  22  23  24  25  26  27  28  29  30  31  32  33  34  35  36  37  38\n",
            "  39  40  41  42  43   0   1   2   3   4   5   6   7   8   0   0   0   0\n",
            "   0   0   0   0   0   0   0   0   0   0   0   0   0   0   0   0   0   0\n",
            "   0   0   0   0   0   0   0   0   0   0   0   0   0   0   0   0   0   0\n",
            "   0   0   0   0   0   0   0   0   0   0   0   0   0   0   0   0   0   0\n",
            "   0   0   0   0   0   0   1   2   3   4   5   6   7   8   9  10  11  12\n",
            "  13  14  15  16  17  18  19  20  21  22  23  24  25  26  27  28  29  30\n",
            "  31  32  33  34  35  36  37  38  39  40  41  42  43  44  45  46  47  48\n",
            "  49  50  51  52  53  54  55  56  57  58  59  60  61  62  63  64  65  66\n",
            "  67  68   0   1   2   0   0   0   0   0   0   0   1   2   3   0   1   0\n",
            "   0   1   2   3   4   5   6   7   8   0   1   2   3   4   5   6   7   8\n",
            "   9  10  11  12  13  14  15  16  17  18  19  20  21   0   0   0   0   1\n",
            "   2   0   1   2   3   4   5   6   7   8   9  10  11  12  13  14  15  16\n",
            "  17  18  19  20  21  22  23  24  25  26  27  28  29  30  31  32  33  34\n",
            "  35  36  37  38  39  40  41  42  43  44  45  46  47  48  49  50  51   0\n",
            "   1   2   3   4   5   6   7   8   0   0   0   0   0   0   1   0   0   0\n",
            "   1   2   3   0   1   2   3   4   5   6   0   0   1   2   3   0   0   1\n",
            "   2   3   4   0   0   0   1   0   1   2   3   4   5   6   7   8   9  10\n",
            "  11  12  13  14  15  16  17  18  19  20  21  22  23  24  25  26  27  28\n",
            "  29  30  31  32  33  34  35  36  37  38  39  40  41  42  43  44  45  46\n",
            "  47  48  49  50  51  52  53  54  55  56  57  58  59  60  61  62  63  64\n",
            "  65  66  67  68  69  70  71  72  73  74  75  76  77  78  79  80  81  82\n",
            "  83  84  85  86  87  88  89  90  91  92  93  94  95  96  97  98  99 100\n",
            " 101 102 103 104 105 106 107 108 109 110 111 112 113 114 115 116 117 118\n",
            " 119 120 121 122 123 124 125 126 127 128 129 130 131 132 133 134 135 136\n",
            " 137 138 139 140 141 142 143 144 145 146 147 148 149 150 151 152 153 154\n",
            " 155 156 157 158 159 160 161 162   0   0   0   1   2   3   4   5   6   7\n",
            "   8   9  10  11  12  13  14  15  16  17  18  19  20  21  22  23  24  25\n",
            "  26  27  28  29  30  31  32  33  34  35  36]\n",
            "Maximum drawdown period for Bitcoin is 162 days\n",
            "Annual sharpe ratio for Bitcoin is 1.9337744784941078\n",
            "Annual sortino ratio for Bitcoin is 1.9484377903853445\n"
          ]
        }
      ]
    },
    {
      "cell_type": "markdown",
      "source": [
        "## Ethereum"
      ],
      "metadata": {
        "id": "PAQ5ZHN3i0kA"
      }
    },
    {
      "cell_type": "code",
      "source": [
        "calculate_measures(equity4Ethereum, \"Ethereum\")"
      ],
      "metadata": {
        "colab": {
          "base_uri": "https://localhost:8080/"
        },
        "id": "GLu2D0gKi_XL",
        "outputId": "81a47843-4461-4370-c341-fa82a095b994"
      },
      "execution_count": 231,
      "outputs": [
        {
          "output_type": "stream",
          "name": "stdout",
          "text": [
            "Net profit for Ethereum is 404.5220009721855$\n",
            "Maximum drawdown for Ethereum is -9.53664752493234\n",
            "Duration of drawdown for Ethereum is \n",
            "[  0   0   0   0   0   0   0   0   0   0   0   0   0   0   0   0   0   0\n",
            "   0   0   0   0   0   1   0   0   1   2   0   1   2   3   4   5   0   1\n",
            "   2   3   4   5   6   7   8   9  10  11  12  13  14  15  16  17  18  19\n",
            "  20  21  22  23  24  25  26  27  28  29  30  31  32  33  34  35  36  37\n",
            "  38  39  40  41  42  43  44  45  46  47  48  49  50  51  52  53  54  55\n",
            "  56  57  58  59  60  61  62   0   1   0   0   0   0   0   0   0   0   0\n",
            "   1   2   3   0   1   2   3   4   5   6   7   8   9  10  11  12  13  14\n",
            "  15  16  17  18  19  20  21  22  23  24  25  26  27  28  29  30   0   1\n",
            "   2   3   4   5   6   7   8   9  10  11  12  13  14  15  16  17  18  19\n",
            "  20   0   0   1   2   0   1   2   3   0   1   0   1   2   3   4   5   6\n",
            "   7   0   1   2   3   0   0   1   2   3   4   0   1   0   0   0   1   0\n",
            "   1   2   3   4   5   6   7   8   9  10  11  12  13  14  15  16  17  18\n",
            "  19  20  21  22  23  24  25  26  27  28  29  30  31  32  33  34  35  36\n",
            "  37  38  39  40  41  42  43  44  45  46  47  48  49  50  51  52  53  54\n",
            "  55  56  57  58  59  60  61  62  63  64  65  66  67  68  69  70  71  72\n",
            "  73  74  75  76  77  78  79  80  81  82  83  84  85  86  87   0   1   2\n",
            "   3   4   5   6   7   8   9  10  11  12  13  14  15  16  17  18  19  20\n",
            "  21  22  23  24  25  26  27  28  29  30  31  32  33  34  35  36  37  38\n",
            "  39  40  41  42  43  44  45  46  47  48  49  50  51  52  53  54  55  56\n",
            "  57  58  59  60  61  62  63  64  65  66  67  68  69  70  71  72  73  74\n",
            "  75  76  77  78  79  80  81  82  83  84  85  86  87  88  89  90  91  92\n",
            "  93  94  95  96  97  98  99 100 101 102 103 104 105 106 107 108 109 110\n",
            " 111 112 113 114 115 116 117 118 119 120 121 122 123 124 125 126 127 128\n",
            " 129 130 131 132 133 134 135 136 137 138 139 140 141 142 143 144   0   1\n",
            "   0   0   1   2   3   4   5   6   7   8   9  10  11  12  13  14  15  16\n",
            "  17  18  19  20  21  22  23  24  25  26  27  28  29  30  31  32   0   0\n",
            "   1   2   3   4   5   6   7   8   9  10  11  12  13  14  15  16  17  18\n",
            "  19  20  21  22  23  24  25  26   0   1   0   0   0   0   1   0   0   1\n",
            "   2   0   0   0   1   2   3   4   0   0   0   0   1   0   1   0   0   1\n",
            "   0   0   0   0   1   0   1   2   3   4   5   6   7   8   9  10  11  12\n",
            "  13  14  15  16  17  18  19  20  21  22  23  24  25  26  27   0   1   2\n",
            "   3   4   5   6   7   8   9  10  11  12  13  14  15  16  17  18  19  20\n",
            "  21  22  23  24  25  26  27  28  29  30  31  32  33  34  35  36  37  38\n",
            "   0   0   1   0   0   1   2   3   4   0   0   1   2   3   4   5   6   7\n",
            "   8   9  10  11  12  13  14  15  16  17  18  19  20  21  22  23  24  25\n",
            "  26  27  28  29  30  31  32  33  34  35  36  37  38  39  40  41  42  43\n",
            "  44  45  46  47  48  49  50  51  52  53  54  55  56  57  58  59  60  61\n",
            "  62  63  64  65  66  67  68  69  70  71  72  73  74  75  76  77  78  79\n",
            "  80  81  82  83  84  85  86  87  88  89  90  91  92  93  94  95  96  97\n",
            "  98  99 100 101 102 103 104 105 106 107 108 109 110 111 112 113 114 115\n",
            " 116 117 118 119 120 121 122 123 124 125 126]\n",
            "Maximum drawdown period for Ethereum is 144 days\n",
            "Annual sharpe ratio for Ethereum is 2.103952768637083\n",
            "Annual sortino ratio for Ethereum is 2.334873850381769\n"
          ]
        }
      ]
    },
    {
      "cell_type": "markdown",
      "source": [
        "## Dogecoin"
      ],
      "metadata": {
        "id": "wwpdCxOHjDv4"
      }
    },
    {
      "cell_type": "code",
      "source": [
        "calculate_measures(equity4Dogecoin, \"Dogecoin\")"
      ],
      "metadata": {
        "colab": {
          "base_uri": "https://localhost:8080/"
        },
        "id": "YQjBs310jGy4",
        "outputId": "29b48abd-2dc4-4fa9-dd68-437792304581"
      },
      "execution_count": 232,
      "outputs": [
        {
          "output_type": "stream",
          "name": "stdout",
          "text": [
            "Net profit for Dogecoin is 430.76718965253974$\n",
            "Maximum drawdown for Dogecoin is -19.944663332826362\n",
            "Duration of drawdown for Dogecoin is \n",
            "[  0   0   0   0   0   0   0   0   0   0   0   0   0   0   0   0   0   0\n",
            "   0   0   0   0   0   0   0   0   0   0   0   0   0   0   0   0   0   0\n",
            "   0   0   0   0   0   0   0   0   0   0   0   0   0   0   0   0   0   0\n",
            "   0   0   0   0   1   0   0   1   2   3   4   5   6   7   8   9  10  11\n",
            "  12  13  14  15  16  17  18  19  20  21  22  23  24  25  26  27  28  29\n",
            "  30  31  32  33  34  35  36  37  38  39  40  41  42  43  44  45  46  47\n",
            "  48  49  50  51  52  53  54  55  56  57  58  59  60  61  62  63  64  65\n",
            "  66  67  68  69  70  71  72  73  74  75  76  77  78  79  80  81  82  83\n",
            "  84  85  86  87  88  89  90  91  92  93  94  95  96  97  98  99 100 101\n",
            " 102 103 104 105 106 107 108 109 110 111 112 113 114 115 116 117 118 119\n",
            " 120 121 122 123 124 125 126 127 128 129 130 131 132 133 134 135 136 137\n",
            "   0   0   1   2   3   4   5   6   7   8   9  10  11  12  13  14  15  16\n",
            "  17  18  19  20  21  22  23  24  25  26  27  28  29  30  31  32  33  34\n",
            "  35  36  37  38  39  40  41  42  43  44  45  46  47  48  49  50  51  52\n",
            "  53  54  55  56  57  58  59  60  61  62  63  64  65  66  67  68  69  70\n",
            "  71  72  73  74  75  76  77  78  79  80  81  82  83  84  85   0   1   0\n",
            "   1   2   3   4   5   0   1   2   0   0   1   2   3   4   5   6   7   8\n",
            "   9  10  11  12  13  14  15  16  17  18  19  20  21  22  23  24  25  26\n",
            "  27  28  29  30  31  32  33  34  35  36  37  38  39  40  41  42  43  44\n",
            "  45  46  47  48  49  50  51  52  53  54  55  56  57  58  59  60  61  62\n",
            "  63  64  65  66  67  68  69  70  71  72  73  74  75  76  77  78  79  80\n",
            "  81  82  83  84  85  86  87  88  89  90  91  92  93  94  95  96  97  98\n",
            "  99 100 101 102 103 104 105 106 107 108 109 110 111 112 113 114   0   1\n",
            "   2   3   4   5   6   7   8   9  10  11  12  13  14  15  16   0   0   0\n",
            "   0   0   1   0   1   2   3   4   5   6   7   8   9  10  11  12  13  14\n",
            "  15  16  17  18  19  20  21  22  23  24  25  26  27  28  29  30  31  32\n",
            "  33  34  35  36  37  38  39  40   0   1   2   3   4   5   6   7   8   9\n",
            "  10  11  12  13  14  15  16  17  18  19  20  21  22  23  24  25  26  27\n",
            "  28  29   0   1   2   3   4   5   6   7   0   0   0   0   0   0   0   1\n",
            "   2   3   4   5   6   7   8   9  10  11  12  13  14  15  16  17  18  19\n",
            "  20  21   0   0   0   1   2   0   1   2   3   4   5   6   7   8   9  10\n",
            "  11  12  13  14  15  16  17  18  19  20  21  22  23  24  25  26  27  28\n",
            "  29  30  31  32  33  34  35  36  37  38  39  40  41  42  43  44  45  46\n",
            "  47  48  49  50  51  52  53  54  55  56  57  58  59  60  61  62  63  64\n",
            "  65  66  67  68  69  70  71  72  73  74  75  76  77  78  79  80  81  82\n",
            "  83  84  85  86  87  88  89  90  91  92  93  94  95  96  97  98  99 100\n",
            " 101 102 103 104 105 106 107 108 109 110 111 112 113 114 115 116 117 118\n",
            " 119 120 121 122 123 124 125 126 127 128 129 130 131 132 133 134 135 136\n",
            " 137 138 139 140 141 142 143 144 145 146 147 148 149 150 151 152 153 154\n",
            " 155 156 157 158 159 160 161 162 163 164 165   0   1   2   3   4   5   6\n",
            "   7   0   1   2   3   4   0   0   0   1   2]\n",
            "Maximum drawdown period for Dogecoin is 165 days\n",
            "Annual sharpe ratio for Dogecoin is 1.547797256156177\n",
            "Annual sortino ratio for Dogecoin is 1.4377622955396172\n"
          ]
        }
      ]
    }
  ]
}